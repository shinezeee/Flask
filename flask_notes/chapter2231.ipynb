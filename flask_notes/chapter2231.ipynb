{
 "cells": [
  {
   "cell_type": "markdown",
   "metadata": {},
   "source": [
    "## Bluepoint \n",
    " - Flask의 애플리케이션을 모듈 단위로 나눌때 사용되는 도구\n",
    " - api 문서 자동으로 생성, 요청 데이터와 응답데이터 검증하는데 유용\n",
    "\n",
    "    - 모듈화 : 애플리케이션을 여러 블루프린트로 나눠 관리 용이\n",
    "    - Swagger/OpenAPI 지원 \n",
    "    - 유효성 검사 : 스키마 기반 검증 가능\n",
    "\n",
    "## abort\n",
    " - 특정 조건에서 요청 중단하고 적절한 http 상태코드 반환하는대 사용\n",
    "\n",
    "    - 잘못된 요청 처리: 400 Bad Request, 404 Not Found 등 오류 반환.\n",
    "    - 권한 부족: 401 Unauthorized, 403 Forbidden 반환.\n",
    "    - 서버 문제: 500 Internal Server Error 반환.\n",
    "\n",
    "\n",
    "## fetchone() vs fetchall()\n",
    " - fetchone(): 한 번에 한 행씩 가져옴. 주로 결과가 하나만 필요한 경우 사용.\n",
    "    - 매번 호출때마다 쿼리결과에서 첫번째 부터 자동으로 한 행씩 가져옴 \n",
    " - fetchall(): 모든 행을 한꺼번에 리스트로 가져옴."
   ]
  }
 ],
 "metadata": {
  "language_info": {
   "name": "python"
  }
 },
 "nbformat": 4,
 "nbformat_minor": 2
}
